{
 "cells": [
  {
   "cell_type": "code",
   "execution_count": 1,
   "metadata": {},
   "outputs": [],
   "source": [
    "import numpy as np\n",
    "import nltk\n",
    "import pandas as pd\n",
    "import string\n",
    "\n",
    "from sklearn.model_selection import KFold\n",
    "from sklearn.metrics import mean_squared_error\n",
    "from sklearn.model_selection import train_test_split\n",
    "\n",
    "from sklearn.feature_extraction.text import TfidfVectorizer\n",
    "from nltk.stem.snowball import SnowballStemmer\n",
    "from nltk.stem.wordnet import WordNetLemmatizer\n",
    "from nltk.corpus import stopwords\n",
    "import unicodedata\n",
    "\n",
    "from sklearn.ensemble import RandomForestRegressor, GradientBoostingClassifier\n",
    "from sklearn.naive_bayes import GaussianNB"
   ]
  },
  {
   "cell_type": "code",
   "execution_count": 2,
   "metadata": {},
   "outputs": [],
   "source": [
    "df = pd.read_csv('data/final_office.csv')"
   ]
  },
  {
   "cell_type": "code",
   "execution_count": 3,
   "metadata": {},
   "outputs": [
    {
     "name": "stdout",
     "output_type": "stream",
     "text": [
      "<class 'pandas.core.frame.DataFrame'>\n",
      "RangeIndex: 51792 entries, 0 to 51791\n",
      "Data columns (total 11 columns):\n",
      " #   Column         Non-Null Count  Dtype  \n",
      "---  ------         --------------  -----  \n",
      " 0   Unnamed: 0     51792 non-null  int64  \n",
      " 1   index          51792 non-null  int64  \n",
      " 2   season         51792 non-null  int64  \n",
      " 3   episode        51792 non-null  int64  \n",
      " 4   episode_name   51792 non-null  object \n",
      " 5   director       51792 non-null  object \n",
      " 6   writer         51792 non-null  object \n",
      " 7   character      51792 non-null  object \n",
      " 8   text           51437 non-null  object \n",
      " 9   averageRating  51792 non-null  float64\n",
      " 10  numVotes       51792 non-null  int64  \n",
      "dtypes: float64(1), int64(5), object(5)\n",
      "memory usage: 4.3+ MB\n"
     ]
    }
   ],
   "source": [
    "df.info()"
   ]
  },
  {
   "cell_type": "code",
   "execution_count": 4,
   "metadata": {},
   "outputs": [],
   "source": [
    "def remove_accents(input_str):\n",
    "    nfkd_form = unicodedata.normalize('NFKD', input_str)\n",
    "    only_ascii = nfkd_form.encode('ASCII', 'ignore')\n",
    "    return only_ascii.decode()\n",
    "\n",
    "def load_data():\n",
    "\n",
    "    shows = {1: [1, 2, 3, 4, 5, 6],\n",
    "            2: [1, 2,  3,  4,  5,  6,  7,  8,  9, 10, 11, 12, 13, 14, 15, 16, 17, 18, 19, 20, 21, 22],\n",
    "            3: [1, 2,  3,  4,  5,  6,  7,  8,  9, 10, 12, 13, 14, 15, 16, 17, 18, 19, 20, 21, 22, 23],\n",
    "            4: [1, 3,  5,  7,  9, 10, 11, 12, 13, 14],\n",
    "            5: [1, 3,  4,  5,  6,  7,  8,  9, 10, 11, 12, 13, 14, 16, 17, 18, 19, 20, 21, 22, 23, 24, 25, 26],\n",
    "            6: [1, 2,  3,  4,  6,  7,  8,  9, 10, 11, 12, 13, 14, 15, 16, 17, 19, 20, 21, 22, 23, 24, 25, 26],\n",
    "            7: [1, 2,  3,  4,  5,  6,  7,  8,  9, 10, 11, 13, 14, 15, 16, 17, 18, 19, 20, 21, 22, 23, 24],\n",
    "            8: [1, 2,  3,  4,  5,  6,  7,  8,  9, 10, 11, 12, 13, 14, 15, 16, 17, 18, 19, 20, 21, 22, 23, 24],\n",
    "            9: [1, 2,  3,  4,  5,  6,  7,  8,  9, 10, 11, 12, 13, 14, 15, 16, 17, 18, 19, 20, 21, 22]}\n",
    "    \n",
    "    docs=[]\n",
    "    docs_nostopwords=[]\n",
    "    ratings=[]\n",
    "    for k, lst in shows.items():\n",
    "        for i in lst:\n",
    "            text1 = df[(df['season'] == k) & (df['episode'] == i)]['text']\n",
    "            rating1 = df[(df['season'] == k) & (df['episode'] == i)]['averageRating'].mean()\n",
    "            \n",
    "            # convert to string from series\n",
    "            paragraph = text1.str.cat(sep=' ')\n",
    "            # normalize text\n",
    "            input_string = remove_accents(paragraph)\n",
    "            \n",
    "            ratings.append(rating1)\n",
    "            docs.append(input_string)\n",
    "            ratings = [round(num, 1) for num in ratings]\n",
    "\n",
    "    return docs, ratings"
   ]
  },
  {
   "cell_type": "code",
   "execution_count": 5,
   "metadata": {},
   "outputs": [],
   "source": [
    "X,y = load_data()"
   ]
  },
  {
   "cell_type": "code",
   "execution_count": 6,
   "metadata": {},
   "outputs": [],
   "source": [
    "X_train, X_test, y_train, y_test = train_test_split(X, y, test_size=0.2, random_state=42)"
   ]
  },
  {
   "cell_type": "markdown",
   "metadata": {},
   "source": [
    "### Base Model (mean of average rating) mse"
   ]
  },
  {
   "cell_type": "code",
   "execution_count": 7,
   "metadata": {},
   "outputs": [
    {
     "data": {
      "text/plain": [
       "0.2971222222222224"
      ]
     },
     "execution_count": 7,
     "metadata": {},
     "output_type": "execute_result"
    }
   ],
   "source": [
    "y_mean = np.arange(36)\n",
    "y_mean=np.full((36,1),8.23)\n",
    "mean_squared_error(y_test, y_mean)"
   ]
  },
  {
   "cell_type": "code",
   "execution_count": 8,
   "metadata": {},
   "outputs": [],
   "source": [
    "def vectorize_data(data, trans_vec,train_flag):\n",
    "    '''\n",
    "        Transforms array of statements into a matrix using a fitted TfidfVector.\n",
    "        INPUT:\n",
    "            - Array of statements\n",
    "            - Fitted TfidfVector\n",
    "        OUTPUT:\n",
    "            - Matrix of floats\n",
    "    '''\n",
    "    if train_flag: \n",
    "        matrix = trans_vec.fit_transform(data)\n",
    "    else:\n",
    "        matrix = trans_vec.transform(data) \n",
    "        \n",
    "    vect_data = matrix.toarray()\n",
    "    return vect_data"
   ]
  },
  {
   "cell_type": "code",
   "execution_count": 9,
   "metadata": {},
   "outputs": [],
   "source": [
    "def score_final_model(model, tfidf, X_train, y_train, X_test, y_test):\n",
    "    '''\n",
    "        Transforms X_train into a Tfidf matrix. Transforms X_test into matrix using fitted Tfidf class.\n",
    "        Uses X_train_tfidf matrix and y_train to fit model.\n",
    "        Scores final model using area under ROC curve.\n",
    "        INPUT:\n",
    "            - Model class\n",
    "            - TfidfVectorizer class\n",
    "            - Array X_train\n",
    "            - Array y_train\n",
    "            - Array X_test\n",
    "            - Array y_test\n",
    "        OUTPUT:\n",
    "            - Float\n",
    "    '''\n",
    "    X_train_tfidf = vectorize_data(X_train, tfidf, True)\n",
    "    X_test_tfidf = vectorize_data(X_test, tfidf, False)\n",
    "    model.fit(X_train_tfidf, y_train)\n",
    "    y_predict = model.predict(X_test_tfidf)\n",
    "    \n",
    "    return mean_squared_error(y_test, y_predict)"
   ]
  },
  {
   "cell_type": "code",
   "execution_count": 10,
   "metadata": {},
   "outputs": [
    {
     "name": "stdout",
     "output_type": "stream",
     "text": [
      "0.2887655833333339\n"
     ]
    }
   ],
   "source": [
    "model = RandomForestRegressor()\n",
    "tfidf = TfidfVectorizer(strip_accents='ascii',ngram_range=(3,3))\n",
    "model_score = score_final_model(model, tfidf, X_train, y_train, X_test, y_test)\n",
    "print(model_score)"
   ]
  },
  {
   "cell_type": "code",
   "execution_count": 11,
   "metadata": {},
   "outputs": [
    {
     "name": "stdout",
     "output_type": "stream",
     "text": [
      "with stopwords\n",
      "X-test =  582044\n",
      "y-test =  36\n",
      "X-train =  2232923\n",
      "y-train =  141\n"
     ]
    }
   ],
   "source": [
    "count_xt = 0\n",
    "for lst in X_test:\n",
    "    count_xt += len(lst)\n",
    "count_yt = len(y_test)\n",
    "\n",
    "\n",
    "count_xtr = 0\n",
    "for lst in X_train:\n",
    "    count_xtr += len(lst)\n",
    "count_ytr = len(y_train)\n",
    "    \n",
    "print ('with stopwords')\n",
    "print ( 'X-test = ',count_xt )\n",
    "print ( 'y-test = ',count_yt )\n",
    "print ( 'X-train = ',count_xtr )\n",
    "print ( 'y-train = ',count_ytr )\n",
    "\n"
   ]
  },
  {
   "cell_type": "code",
   "execution_count": null,
   "metadata": {},
   "outputs": [],
   "source": []
  },
  {
   "cell_type": "code",
   "execution_count": null,
   "metadata": {},
   "outputs": [],
   "source": []
  },
  {
   "cell_type": "code",
   "execution_count": null,
   "metadata": {},
   "outputs": [],
   "source": []
  }
 ],
 "metadata": {
  "kernelspec": {
   "display_name": "Python 3",
   "language": "python",
   "name": "python3"
  },
  "language_info": {
   "codemirror_mode": {
    "name": "ipython",
    "version": 3
   },
   "file_extension": ".py",
   "mimetype": "text/x-python",
   "name": "python",
   "nbconvert_exporter": "python",
   "pygments_lexer": "ipython3",
   "version": "3.7.9"
  }
 },
 "nbformat": 4,
 "nbformat_minor": 4
}
